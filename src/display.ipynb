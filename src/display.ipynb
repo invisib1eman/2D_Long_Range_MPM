{
 "cells": [
  {
   "cell_type": "markdown",
   "metadata": {},
   "source": [
    "# Complex Array Visualization Interface",
    "## Interactive exploration of complex number arrays"
   ]
  },
  {
   "cell_type": "code",
   "execution_count": null,
   "metadata": {},
   "outputs": [],
   "source": [
    "import numpy as np\n",
    "import matplotlib.pyplot as plt\n",
    "import ipywidgets as widgets\n",
    "from ipywidgets import interact\n",
    "import plotly.graph_objects as go"
   ]
  },
  {
   "cell_type": "code",
   "execution_count": null,
   "metadata": {},
   "outputs": [],
   "source": [
    "# Sample data\n",
    "array = np.array([[[0 + 0j, -33.27132987 - 76.90789007j],\n",
    "                  [223.83901508 + 141.92557158j, 0 + 0j],\n",
    "                  [0 + 0j, 0 + 0j]],\n",
    "                 [[0 + 0j, -33.27132987 - 76.90789007j],\n",
    "                  [223.83901508 + 141.92557158j, 0 + 0j],\n",
    "                  [0 + 0j, 0 + 0j]]])"
   ]
  },
  {
   "cell_type": "code",
   "execution_count": null,
   "metadata": {},
   "outputs": [],
   "source": [
    "@interact\n",
    "def explore_array(index=(0, array.shape[0]-1)):\n",
    "    \"\"\"Interactive array exploration\"\"\"\n",
    "    fig, (ax1, ax2) = plt.subplots(1, 2, figsize=(12, 4))\n",
    "    \n",
    "    # Plot real components\n",
    "    im1 = ax1.imshow(array[index].real, cmap='viridis')\n",
    "    ax1.set_title(f'Real Components (Index {index})')\n",
    "    plt.colorbar(im1, ax=ax1)\n",
    "    \n",
    "    # Plot imaginary components\n",
    "    im2 = ax2.imshow(array[index].imag, cmap='plasma')\n",
    "    ax2.set_title(f'Imaginary Components (Index {index})')\n",
    "    plt.colorbar(im2, ax=ax2)\n",
    "    \n",
    "    plt.tight_layout()\n",
    "    plt.show()"
   ]
  },
  {
   "cell_type": "code",
   "execution_count": null,
   "metadata": {},
   "outputs": [],
   "source": [
    "def create_3d_visualization():\n",
    "    \"\"\"Create 3D visualization of array\"\"\"\n",
    "    x, y, z = np.indices(array.shape)\n",
    "    \n",
    "    fig = go.Figure(data=go.Volume(\n",
    "        x=x.flatten(),\n",
    "        y=y.flatten(),\n",
    "        z=z.flatten(),\n",
    "        value=np.abs(array).flatten(),\n",
    "        isomin=np.abs(array).min(),\n",
    "        isomax=np.abs(array).max(),\n",
    "        opacity=0.1,\n",
    "        surface_count=20,\n",
    "    ))\n",
    "    \n",
    "    fig.update_layout(\n",
    "        title='3D Visualization of Array Magnitudes',\n",
    "        scene=dict(\n",
    "            xaxis_title='X',\n",
    "            yaxis_title='Y',\n",
    "            zaxis_title='Z'\n",
    "        )\n",
    "    )\n",
    "    \n",
    "    return fig\n",
    "\n",
    "create_3d_visualization().show()"
   ]
  }
 ],
 "metadata": {
  "kernelspec": {
   "display_name": "Python 3",
   "language": "python",
   "name": "python3"
  },
  "language_info": {
   "codemirror_mode": {
    "name": "ipython",
    "version": 3
   },
   "file_extension": ".py",
   "mimetype": "text/x-python",
   "name": "python",
   "nbconvert_exporter": "python",
   "pygments_lexer": "ipython3",
   "version": "3.9.0"
  }
 },
 "nbformat": 4,
 "nbformat_minor": 4
}
